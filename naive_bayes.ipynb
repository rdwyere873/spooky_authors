{
 "cells": [
  {
   "cell_type": "code",
   "execution_count": 196,
   "metadata": {},
   "outputs": [
    {
     "name": "stdout",
     "output_type": "stream",
     "text": [
      "Automatically created module for IPython interactive environment\n"
     ]
    }
   ],
   "source": [
    "from pprint import pprint\n",
    "from time import time\n",
    "import logging\n",
    "import pandas as pd \n",
    "import numpy as np\n",
    "from sklearn import metrics\n",
    "from sklearn.preprocessing import LabelEncoder\n",
    "from sklearn.feature_extraction.text import TfidfVectorizer, CountVectorizer\n",
    "from sklearn.decomposition import TruncatedSVD\n",
    "from sklearn.model_selection import KFold\n",
    "from sklearn import ensemble, naive_bayes\n",
    "import xgboost as xgb\n",
    "import nltk\n",
    "from nltk.tokenize import RegexpTokenizer\n",
    "from nltk.corpus import stopwords\n",
    "import string\n",
    "import matplotlib.pyplot as plt\n",
    "import seaborn as sns\n",
    "\n",
    "print(__doc__)\n",
    "\n",
    "%matplotlib inline"
   ]
  },
  {
   "cell_type": "code",
   "execution_count": 105,
   "metadata": {},
   "outputs": [],
   "source": [
    "pd.options.mode.chained_assignment=None"
   ]
  },
  {
   "cell_type": "code",
   "execution_count": 4,
   "metadata": {
    "collapsed": true
   },
   "outputs": [],
   "source": [
    "logging.basicConfig(level=logging.INFO, format='%(asctime)s %(message)s')"
   ]
  },
  {
   "cell_type": "code",
   "execution_count": 106,
   "metadata": {},
   "outputs": [
    {
     "name": "stdout",
     "output_type": "stream",
     "text": [
      "pipeline_with_SGDClassifier.ipynb\n",
      "train.csv\n",
      "\n"
     ]
    }
   ],
   "source": [
    "from subprocess import check_output\n",
    "print(check_output([\"ls\", \"../input\"]).decode(\"utf8\"))\n"
   ]
  },
  {
   "cell_type": "code",
   "execution_count": 374,
   "metadata": {},
   "outputs": [],
   "source": [
    "df = pd.read_csv('../input/train.csv')\n"
   ]
  },
  {
   "cell_type": "code",
   "execution_count": 375,
   "metadata": {
    "collapsed": true
   },
   "outputs": [],
   "source": [
    "test = pd.read_csv('../input/test.csv')"
   ]
  },
  {
   "cell_type": "code",
   "execution_count": 376,
   "metadata": {},
   "outputs": [],
   "source": [
    "eng_stop = set(stopwords.words('English'))"
   ]
  },
  {
   "cell_type": "code",
   "execution_count": 377,
   "metadata": {},
   "outputs": [
    {
     "data": {
      "image/png": "[encoded data removed]",
      "text/plain": [
       "<matplotlib.figure.Figure at 0x23687d9bcf8>"
      ]
     },
     "metadata": {},
     "output_type": "display_data"
    }
   ],
   "source": [
    "# Calculate and display the break down of works by author\n",
    "authors_works = df['author'].value_counts()\n",
    "values = authors_works.values\n",
    "\n",
    "plt.figure(figsize=(12,8))\n",
    "ax= plt.subplot()\n",
    "sns.barplot(authors_works.index,authors_works.values, alpha=0.8)\n",
    "ax.set_xlabel('Author', fontsize=12)\n",
    "ax.set_ylabel('Count', fontsize=12)\n",
    "ax.set_title('NUmber of Excerpts by Author')\n",
    "ax.set_xticklabels(authors_works.index)\n",
    "\n",
    "rects = ax.patches\n",
    "\n",
    "for rect, val in zip(rects, values):\n",
    "    height = rect.get_height()\n",
    "    ax.text(rect.get_x() + rect.get_width()/2, height + 200, val, ha='center', va='top')"
   ]
  },
  {
   "cell_type": "code",
   "execution_count": 378,
   "metadata": {},
   "outputs": [
    {
     "name": "stdout",
     "output_type": "stream",
     "text": [
      "Author name :  EAP\n",
      "This process, however, afforded me no means of ascertaining the dimensions of my dungeon; as I might make its circuit, and return to the point whence I set out, without being aware of the fact; so perfectly uniform seemed the wall.\n",
      "In his left hand was a gold snuff box, from which, as he capered down the hill, cutting all manner of fantastic steps, he took snuff incessantly with an air of the greatest possible self satisfaction.\n",
      "The astronomer, perhaps, at this point, took refuge in the suggestion of non luminosity; and here analogy was suddenly let fall.\n",
      "The surcingle hung in ribands from my body.\n",
      "I knew that you could not say to yourself 'stereotomy' without being brought to think of atomies, and thus of the theories of Epicurus; and since, when we discussed this subject not very long ago, I mentioned to you how singularly, yet with how little notice, the vague guesses of that noble Greek had met with confirmation in the late nebular cosmogony, I felt that you could not avoid casting your eyes upward to the great nebula in Orion, and I certainly expected that you would do so.\n",
      "\n",
      "\n",
      "Author name :  HPL\n",
      "It never once occurred to me that the fumbling might be a mere mistake.\n",
      "Finding nothing else, not even gold, the Superintendent abandoned his attempts; but a perplexed look occasionally steals over his countenance as he sits thinking at his desk.\n",
      "Herbert West needed fresh bodies because his life work was the reanimation of the dead.\n",
      "The farm like grounds extended back very deeply up the hill, almost to Wheaton Street.\n",
      "His facial aspect, too, was remarkable for its maturity; for though he shared his mother's and grandfather's chinlessness, his firm and precociously shaped nose united with the expression of his large, dark, almost Latin eyes to give him an air of quasi adulthood and well nigh preternatural intelligence.\n",
      "\n",
      "\n",
      "Author name :  MWS\n",
      "How lovely is spring As we looked from Windsor Terrace on the sixteen fertile counties spread beneath, speckled by happy cottages and wealthier towns, all looked as in former years, heart cheering and fair.\n",
      "A youth passed in solitude, my best years spent under your gentle and feminine fosterage, has so refined the groundwork of my character that I cannot overcome an intense distaste to the usual brutality exercised on board ship: I have never believed it to be necessary, and when I heard of a mariner equally noted for his kindliness of heart and the respect and obedience paid to him by his crew, I felt myself peculiarly fortunate in being able to secure his services.\n",
      "I confess that neither the structure of languages, nor the code of governments, nor the politics of various states possessed attractions for me.\n",
      "He shall find that I can feel my injuries; he shall learn to dread my revenge\" A few days after he arrived.\n",
      "He had escaped me, and I must commence a destructive and almost endless journey across the mountainous ices of the ocean, amidst cold that few of the inhabitants could long endure and which I, the native of a genial and sunny climate, could not hope to survive.\n",
      "\n",
      "\n"
     ]
    }
   ],
   "source": [
    "# Investigate writing style of each author\n",
    "authors= df.groupby('author')\n",
    "for name, group in authors:\n",
    "    print(\"Author name : \", name)\n",
    "    count = 0\n",
    "    for ind, row in group.iterrows():\n",
    "        print(row[\"text\"])\n",
    "        count += 1\n",
    "        if count == 5:\n",
    "            break\n",
    "    print(\"\\n\")\n",
    "    "
   ]
  },
  {
   "cell_type": "markdown",
   "metadata": {},
   "source": [
    "# Meta Attributes"
   ]
  },
  {
   "cell_type": "code",
   "execution_count": 111,
   "metadata": {
    "collapsed": true
   },
   "outputs": [],
   "source": [
    "# Number of word\n",
    "df['word_count'] = df['text'].apply(lambda x: len(str(x).split()))\n",
    "test['word_count'] = test['text'].apply(lambda x: len(str(x).split()))"
   ]
  },
  {
   "cell_type": "code",
   "execution_count": 112,
   "metadata": {
    "collapsed": true
   },
   "outputs": [],
   "source": [
    "#Unique words\n",
    "df['uniq_words'] = df['text'].apply(lambda x: len(set(str(x).split())))\n",
    "test['uniq_words'] = test['text'].apply(lambda x: len(set(str(x).split())))"
   ]
  },
  {
   "cell_type": "code",
   "execution_count": 113,
   "metadata": {
    "collapsed": true
   },
   "outputs": [],
   "source": [
    "# Number of characters in text\n",
    "df['num_char'] = df['text'].apply(lambda x: len(str(x)))\n",
    "test['num_char'] = test['text'].apply(lambda x: len(str(x)))"
   ]
  },
  {
   "cell_type": "code",
   "execution_count": 117,
   "metadata": {
    "collapsed": true
   },
   "outputs": [],
   "source": [
    "# Number of stop words\n",
    "df['num_stops'] = df['text'].apply(lambda x: len([w for w in str(x).lower().split() if w in eng_stop]))\n",
    "test['num_stops'] = test['text'].apply(lambda x: len([w for w in str(x).lower().split() if w in eng_stop]))\n",
    "                                   "
   ]
  },
  {
   "cell_type": "code",
   "execution_count": 120,
   "metadata": {},
   "outputs": [],
   "source": [
    "df['punct_count'] = df['text'].apply(lambda x: len([c for c in str(x) if c in string.punctuation]))\n",
    "test['punct_count'] = test['text'].apply(lambda x: len([c for c in str(x) if c in string.punctuation]))"
   ]
  },
  {
   "cell_type": "code",
   "execution_count": 121,
   "metadata": {
    "collapsed": true
   },
   "outputs": [],
   "source": [
    "# NUmber of upper case words\n",
    "df['upper_case'] = df['text'].apply(lambda x: len([w for w in str(x).split() if w.isupper()]))\n",
    "test['upper_case'] = test['text'].apply(lambda x: len([w for w in str(x).split() if w.isupper()]))"
   ]
  },
  {
   "cell_type": "code",
   "execution_count": 122,
   "metadata": {
    "collapsed": true
   },
   "outputs": [],
   "source": [
    "# number of title case words\n",
    "df['title'] = df['text'].apply(lambda x: len([w for w in str(x).split() if w.istitle()]))\n",
    "test['title'] = test['text'].apply(lambda x: len([w for w in str(x).split() if w.istitle()]))"
   ]
  },
  {
   "cell_type": "code",
   "execution_count": 125,
   "metadata": {},
   "outputs": [],
   "source": [
    "# average length of word\n",
    "df['avg_len']= df['text'].apply(lambda x: np.mean([len(w) for w in str(x).split()]))\n",
    "test['avg_len']= test['text'].apply(lambda x: np.mean([len(w) for w in str(x).split()]))"
   ]
  },
  {
   "cell_type": "code",
   "execution_count": 299,
   "metadata": {},
   "outputs": [
    {
     "data": {
      "text/plain": [
       "861"
      ]
     },
     "execution_count": 299,
     "metadata": {},
     "output_type": "execute_result"
    }
   ],
   "source": [
    "df['word_count'].max()"
   ]
  },
  {
   "cell_type": "code",
   "execution_count": 126,
   "metadata": {},
   "outputs": [
    {
     "data": {
      "text/html": [
       "<div>\n",
       "<style>\n",
       "    .dataframe thead tr:only-child th {\n",
       "        text-align: right;\n",
       "    }\n",
       "\n",
       "    .dataframe thead th {\n",
       "        text-align: left;\n",
       "    }\n",
       "\n",
       "    .dataframe tbody tr th {\n",
       "        vertical-align: top;\n",
       "    }\n",
       "</style>\n",
       "<table border=\"1\" class=\"dataframe\">\n",
       "  <thead>\n",
       "    <tr style=\"text-align: right;\">\n",
       "      <th></th>\n",
       "      <th>id</th>\n",
       "      <th>text</th>\n",
       "      <th>author</th>\n",
       "      <th>word_count</th>\n",
       "      <th>uniq_words</th>\n",
       "      <th>num_char</th>\n",
       "      <th>num_stops</th>\n",
       "      <th>punct_count</th>\n",
       "      <th>upper_case</th>\n",
       "      <th>title</th>\n",
       "      <th>avg_len</th>\n",
       "    </tr>\n",
       "  </thead>\n",
       "  <tbody>\n",
       "    <tr>\n",
       "      <th>0</th>\n",
       "      <td>id26305</td>\n",
       "      <td>This process, however, afforded me no means of...</td>\n",
       "      <td>EAP</td>\n",
       "      <td>41</td>\n",
       "      <td>35</td>\n",
       "      <td>231</td>\n",
       "      <td>19</td>\n",
       "      <td>7</td>\n",
       "      <td>2</td>\n",
       "      <td>3</td>\n",
       "      <td>4.658537</td>\n",
       "    </tr>\n",
       "    <tr>\n",
       "      <th>1</th>\n",
       "      <td>id17569</td>\n",
       "      <td>It never once occurred to me that the fumbling...</td>\n",
       "      <td>HPL</td>\n",
       "      <td>14</td>\n",
       "      <td>14</td>\n",
       "      <td>71</td>\n",
       "      <td>8</td>\n",
       "      <td>1</td>\n",
       "      <td>0</td>\n",
       "      <td>1</td>\n",
       "      <td>4.142857</td>\n",
       "    </tr>\n",
       "    <tr>\n",
       "      <th>2</th>\n",
       "      <td>id11008</td>\n",
       "      <td>In his left hand was a gold snuff box, from wh...</td>\n",
       "      <td>EAP</td>\n",
       "      <td>36</td>\n",
       "      <td>32</td>\n",
       "      <td>200</td>\n",
       "      <td>16</td>\n",
       "      <td>5</td>\n",
       "      <td>0</td>\n",
       "      <td>1</td>\n",
       "      <td>4.583333</td>\n",
       "    </tr>\n",
       "    <tr>\n",
       "      <th>3</th>\n",
       "      <td>id27763</td>\n",
       "      <td>How lovely is spring As we looked from Windsor...</td>\n",
       "      <td>MWS</td>\n",
       "      <td>34</td>\n",
       "      <td>32</td>\n",
       "      <td>206</td>\n",
       "      <td>13</td>\n",
       "      <td>4</td>\n",
       "      <td>0</td>\n",
       "      <td>4</td>\n",
       "      <td>5.088235</td>\n",
       "    </tr>\n",
       "    <tr>\n",
       "      <th>4</th>\n",
       "      <td>id12958</td>\n",
       "      <td>Finding nothing else, not even gold, the Super...</td>\n",
       "      <td>HPL</td>\n",
       "      <td>27</td>\n",
       "      <td>25</td>\n",
       "      <td>174</td>\n",
       "      <td>11</td>\n",
       "      <td>4</td>\n",
       "      <td>0</td>\n",
       "      <td>2</td>\n",
       "      <td>5.481481</td>\n",
       "    </tr>\n",
       "  </tbody>\n",
       "</table>\n",
       "</div>"
      ],
      "text/plain": [
       "        id                                               text author  \\\n",
       "0  id26305  This process, however, afforded me no means of...    EAP   \n",
       "1  id17569  It never once occurred to me that the fumbling...    HPL   \n",
       "2  id11008  In his left hand was a gold snuff box, from wh...    EAP   \n",
       "3  id27763  How lovely is spring As we looked from Windsor...    MWS   \n",
       "4  id12958  Finding nothing else, not even gold, the Super...    HPL   \n",
       "\n",
       "   word_count  uniq_words  num_char  num_stops  punct_count  upper_case  \\\n",
       "0          41          35       231         19            7           2   \n",
       "1          14          14        71          8            1           0   \n",
       "2          36          32       200         16            5           0   \n",
       "3          34          32       206         13            4           0   \n",
       "4          27          25       174         11            4           0   \n",
       "\n",
       "   title   avg_len  \n",
       "0      3  4.658537  \n",
       "1      1  4.142857  \n",
       "2      1  4.583333  \n",
       "3      4  5.088235  \n",
       "4      2  5.481481  "
      ]
     },
     "execution_count": 126,
     "metadata": {},
     "output_type": "execute_result"
    }
   ],
   "source": [
    "df.head()"
   ]
  },
  {
   "cell_type": "code",
   "execution_count": 128,
   "metadata": {},
   "outputs": [
    {
     "data": {
      "text/plain": [
       "<matplotlib.text.Text at 0x23686e36ef0>"
      ]
     },
     "execution_count": 128,
     "metadata": {},
     "output_type": "execute_result"
    },
    {
     "data": {
      "image/png": "[encoded data removed]",
      "text/plain": [
       "<matplotlib.figure.Figure at 0x236851d5438>"
      ]
     },
     "metadata": {},
     "output_type": "display_data"
    }
   ],
   "source": [
    "df['word_count'].loc[df['word_count']>80]=80\n",
    "plt.figure(figsize=(12,8))\n",
    "sns.violinplot(x= 'author', y='word_count', data=df)\n",
    "plt.ylabel('Word Count', fontsize=12)\n",
    "plt.xlabel('Author', fontsize=12)\n",
    "plt.title('Words per Author', fontsize=15)\n"
   ]
  },
  {
   "cell_type": "code",
   "execution_count": 129,
   "metadata": {
    "scrolled": true
   },
   "outputs": [
    {
     "data": {
      "text/plain": [
       "<matplotlib.text.Text at 0x23685aca3c8>"
      ]
     },
     "execution_count": 129,
     "metadata": {},
     "output_type": "execute_result"
    },
    {
     "data": {
      "image/png": "[encoded data removed]",
      "text/plain": [
       "<matplotlib.figure.Figure at 0x23686e3eb00>"
      ]
     },
     "metadata": {},
     "output_type": "display_data"
    }
   ],
   "source": [
    "df['punct_count'].loc[df['punct_count']>10]=10\n",
    "plt.figure(figsize=(12,8))\n",
    "sns.violinplot(x= 'author', y='punct_count', data=df)\n",
    "plt.ylabel('Punctuation Count', fontsize=12)\n",
    "plt.xlabel('Author', fontsize=12)\n",
    "plt.title('Punctuation per Author', fontsize=15)\n"
   ]
  },
  {
   "cell_type": "code",
   "execution_count": 134,
   "metadata": {},
   "outputs": [],
   "source": [
    "# Label encode the target variable, auhtor\n",
    "encoder = LabelEncoder()\n",
    "encoder.fit(df['author'])\n",
    "y=encoder.transform(df['author'])\n",
    "df_id = df['id'].values\n",
    "test_id = test['id'].values"
   ]
  },
  {
   "cell_type": "code",
   "execution_count": 135,
   "metadata": {
    "collapsed": true
   },
   "outputs": [],
   "source": [
    "#recomputed truncated variables\n",
    "df['word_count'] = df['text'].apply(lambda x: len(str(x).split()))\n",
    "test['word_count'] = test['text'].apply(lambda x: len(str(x).split()))\n",
    "\n",
    "df['punct_count'] = df['text'].apply(lambda x: len([c for c in str(x) if c in string.punctuation]))\n",
    "test['punct_count'] = test['text'].apply(lambda x: len([c for c in str(x) if c in string.punctuation]))"
   ]
  },
  {
   "cell_type": "code",
   "execution_count": 136,
   "metadata": {},
   "outputs": [
    {
     "data": {
      "text/html": [
       "<div>\n",
       "<style>\n",
       "    .dataframe thead tr:only-child th {\n",
       "        text-align: right;\n",
       "    }\n",
       "\n",
       "    .dataframe thead th {\n",
       "        text-align: left;\n",
       "    }\n",
       "\n",
       "    .dataframe tbody tr th {\n",
       "        vertical-align: top;\n",
       "    }\n",
       "</style>\n",
       "<table border=\"1\" class=\"dataframe\">\n",
       "  <thead>\n",
       "    <tr style=\"text-align: right;\">\n",
       "      <th></th>\n",
       "      <th>id</th>\n",
       "      <th>text</th>\n",
       "      <th>author</th>\n",
       "      <th>word_count</th>\n",
       "      <th>uniq_words</th>\n",
       "      <th>num_char</th>\n",
       "      <th>num_stops</th>\n",
       "      <th>punct_count</th>\n",
       "      <th>upper_case</th>\n",
       "      <th>title</th>\n",
       "      <th>avg_len</th>\n",
       "    </tr>\n",
       "  </thead>\n",
       "  <tbody>\n",
       "    <tr>\n",
       "      <th>0</th>\n",
       "      <td>id26305</td>\n",
       "      <td>This process, however, afforded me no means of...</td>\n",
       "      <td>EAP</td>\n",
       "      <td>41</td>\n",
       "      <td>35</td>\n",
       "      <td>231</td>\n",
       "      <td>19</td>\n",
       "      <td>7</td>\n",
       "      <td>2</td>\n",
       "      <td>3</td>\n",
       "      <td>4.658537</td>\n",
       "    </tr>\n",
       "    <tr>\n",
       "      <th>1</th>\n",
       "      <td>id17569</td>\n",
       "      <td>It never once occurred to me that the fumbling...</td>\n",
       "      <td>HPL</td>\n",
       "      <td>14</td>\n",
       "      <td>14</td>\n",
       "      <td>71</td>\n",
       "      <td>8</td>\n",
       "      <td>1</td>\n",
       "      <td>0</td>\n",
       "      <td>1</td>\n",
       "      <td>4.142857</td>\n",
       "    </tr>\n",
       "    <tr>\n",
       "      <th>2</th>\n",
       "      <td>id11008</td>\n",
       "      <td>In his left hand was a gold snuff box, from wh...</td>\n",
       "      <td>EAP</td>\n",
       "      <td>36</td>\n",
       "      <td>32</td>\n",
       "      <td>200</td>\n",
       "      <td>16</td>\n",
       "      <td>5</td>\n",
       "      <td>0</td>\n",
       "      <td>1</td>\n",
       "      <td>4.583333</td>\n",
       "    </tr>\n",
       "    <tr>\n",
       "      <th>3</th>\n",
       "      <td>id27763</td>\n",
       "      <td>How lovely is spring As we looked from Windsor...</td>\n",
       "      <td>MWS</td>\n",
       "      <td>34</td>\n",
       "      <td>32</td>\n",
       "      <td>206</td>\n",
       "      <td>13</td>\n",
       "      <td>4</td>\n",
       "      <td>0</td>\n",
       "      <td>4</td>\n",
       "      <td>5.088235</td>\n",
       "    </tr>\n",
       "    <tr>\n",
       "      <th>4</th>\n",
       "      <td>id12958</td>\n",
       "      <td>Finding nothing else, not even gold, the Super...</td>\n",
       "      <td>HPL</td>\n",
       "      <td>27</td>\n",
       "      <td>25</td>\n",
       "      <td>174</td>\n",
       "      <td>11</td>\n",
       "      <td>4</td>\n",
       "      <td>0</td>\n",
       "      <td>2</td>\n",
       "      <td>5.481481</td>\n",
       "    </tr>\n",
       "  </tbody>\n",
       "</table>\n",
       "</div>"
      ],
      "text/plain": [
       "        id                                               text author  \\\n",
       "0  id26305  This process, however, afforded me no means of...    EAP   \n",
       "1  id17569  It never once occurred to me that the fumbling...    HPL   \n",
       "2  id11008  In his left hand was a gold snuff box, from wh...    EAP   \n",
       "3  id27763  How lovely is spring As we looked from Windsor...    MWS   \n",
       "4  id12958  Finding nothing else, not even gold, the Super...    HPL   \n",
       "\n",
       "   word_count  uniq_words  num_char  num_stops  punct_count  upper_case  \\\n",
       "0          41          35       231         19            7           2   \n",
       "1          14          14        71          8            1           0   \n",
       "2          36          32       200         16            5           0   \n",
       "3          34          32       206         13            4           0   \n",
       "4          27          25       174         11            4           0   \n",
       "\n",
       "   title   avg_len  \n",
       "0      3  4.658537  \n",
       "1      1  4.142857  \n",
       "2      1  4.583333  \n",
       "3      4  5.088235  \n",
       "4      2  5.481481  "
      ]
     },
     "execution_count": 136,
     "metadata": {},
     "output_type": "execute_result"
    }
   ],
   "source": [
    "df.head()"
   ]
  },
  {
   "cell_type": "code",
   "execution_count": 141,
   "metadata": {},
   "outputs": [],
   "source": [
    "cols= ['id', 'text']\n",
    "X = df.drop(cols + ['author'], axis =1)\n",
    "test_X = test.drop(cols, axis=1)"
   ]
  },
  {
   "cell_type": "code",
   "execution_count": 162,
   "metadata": {
    "collapsed": true
   },
   "outputs": [],
   "source": [
    "def RunXGB(train_X, train_y, test_X,test_y, test_X2=None, seed_val=0, child=1, colsample=.3):\n",
    "    param= {}\n",
    "    param['objective'] = 'multi:softprob'\n",
    "    param['eta'] = .1\n",
    "    param['max_depth'] = 3\n",
    "    param['silent'] = 1\n",
    "    param['num_class'] = 3\n",
    "    param['eval_metric'] = 'mlogloss'\n",
    "    param['min_child_weight'] = child\n",
    "    param['subsample'] = .8\n",
    "    param['colsample_bytree'] = colsample\n",
    "    param['seed'] = seed_val\n",
    "    num_rounds = 2000\n",
    "    \n",
    "    plist =list(param.items())\n",
    "    xgtrain = xgb.DMatrix(train_X, label=train_y)\n",
    "    \n",
    "    if test_y is not None:\n",
    "        xgtest = xgb.DMatrix(test_X, label= test_y)\n",
    "        watchlist = [ (xgtrain, 'train', xgtest, 'test') ]\n",
    "        model = xgb.train(plist, xgtrain, num_rounds, watchlist, early_stopping_rounds =50, verbose_eval=20)\n",
    "    else:\n",
    "        xgtest = xgb.DMatrix(test_X)\n",
    "        model = xgb.train(plist, xgtrain,num_rounds)\n",
    "        \n",
    "    pred_test_y = model.predict(xgtest, ntree_limit=model.best_ntree_limit)\n",
    "    if test_X2 is not None:\n",
    "        xgtest2 = xgb.DMatrix(test_X2)\n",
    "        pred_test_y2 = model.predict(xgtest2, ntree_limit = model.best_ntree_limit)\n",
    "    return pred_test_y, pred_test_y2, model\n"
   ]
  },
  {
   "cell_type": "code",
   "execution_count": 166,
   "metadata": {},
   "outputs": [
    {
     "name": "stdout",
     "output_type": "stream",
     "text": [
      "[0]\ttrain-mlogloss:1.09449\n",
      "Will train until train-mlogloss hasn't improved in 50 rounds.\n",
      "[20]\ttrain-mlogloss:1.04427\n",
      "[40]\ttrain-mlogloss:1.02323\n",
      "[60]\ttrain-mlogloss:1.00778\n",
      "[80]\ttrain-mlogloss:0.995157\n",
      "[100]\ttrain-mlogloss:0.987575\n",
      "[120]\ttrain-mlogloss:0.980675\n",
      "[140]\ttrain-mlogloss:0.974948\n",
      "[160]\ttrain-mlogloss:0.969861\n",
      "[180]\ttrain-mlogloss:0.965261\n",
      "[200]\ttrain-mlogloss:0.961013\n",
      "[220]\ttrain-mlogloss:0.957292\n",
      "[240]\ttrain-mlogloss:0.954248\n",
      "[260]\ttrain-mlogloss:0.951133\n",
      "[280]\ttrain-mlogloss:0.94726\n",
      "[300]\ttrain-mlogloss:0.94414\n",
      "[320]\ttrain-mlogloss:0.940747\n",
      "[340]\ttrain-mlogloss:0.937666\n",
      "[360]\ttrain-mlogloss:0.935134\n",
      "[380]\ttrain-mlogloss:0.932375\n",
      "[400]\ttrain-mlogloss:0.929979\n",
      "[420]\ttrain-mlogloss:0.927369\n",
      "[440]\ttrain-mlogloss:0.925031\n",
      "[460]\ttrain-mlogloss:0.922406\n",
      "[480]\ttrain-mlogloss:0.92049\n",
      "[500]\ttrain-mlogloss:0.918572\n",
      "[520]\ttrain-mlogloss:0.916769\n",
      "[540]\ttrain-mlogloss:0.914808\n",
      "[560]\ttrain-mlogloss:0.912887\n",
      "[580]\ttrain-mlogloss:0.911083\n",
      "[600]\ttrain-mlogloss:0.909437\n",
      "[620]\ttrain-mlogloss:0.907675\n",
      "[640]\ttrain-mlogloss:0.906142\n",
      "[660]\ttrain-mlogloss:0.904515\n",
      "[680]\ttrain-mlogloss:0.902816\n",
      "[700]\ttrain-mlogloss:0.901218\n",
      "[720]\ttrain-mlogloss:0.899775\n",
      "[740]\ttrain-mlogloss:0.898231\n",
      "[760]\ttrain-mlogloss:0.896742\n",
      "[780]\ttrain-mlogloss:0.895453\n",
      "[800]\ttrain-mlogloss:0.89397\n",
      "[820]\ttrain-mlogloss:0.892487\n",
      "[840]\ttrain-mlogloss:0.891203\n",
      "[860]\ttrain-mlogloss:0.889852\n",
      "[880]\ttrain-mlogloss:0.888477\n",
      "[900]\ttrain-mlogloss:0.887207\n",
      "[920]\ttrain-mlogloss:0.885931\n",
      "[940]\ttrain-mlogloss:0.884644\n",
      "[960]\ttrain-mlogloss:0.883387\n",
      "[980]\ttrain-mlogloss:0.88208\n",
      "[1000]\ttrain-mlogloss:0.880771\n",
      "[1020]\ttrain-mlogloss:0.879617\n",
      "[1040]\ttrain-mlogloss:0.878551\n",
      "[1060]\ttrain-mlogloss:0.877487\n",
      "[1080]\ttrain-mlogloss:0.876305\n",
      "[1100]\ttrain-mlogloss:0.87507\n",
      "[1120]\ttrain-mlogloss:0.873988\n",
      "[1140]\ttrain-mlogloss:0.873046\n",
      "[1160]\ttrain-mlogloss:0.871883\n",
      "[1180]\ttrain-mlogloss:0.870688\n",
      "[1200]\ttrain-mlogloss:0.869705\n",
      "[1220]\ttrain-mlogloss:0.86864\n",
      "[1240]\ttrain-mlogloss:0.867749\n",
      "[1260]\ttrain-mlogloss:0.866822\n",
      "[1280]\ttrain-mlogloss:0.865785\n",
      "[1300]\ttrain-mlogloss:0.864574\n",
      "[1320]\ttrain-mlogloss:0.863614\n",
      "[1340]\ttrain-mlogloss:0.862633\n",
      "[1360]\ttrain-mlogloss:0.861615\n",
      "[1380]\ttrain-mlogloss:0.860518\n",
      "[1400]\ttrain-mlogloss:0.859635\n",
      "[1420]\ttrain-mlogloss:0.858676\n",
      "[1440]\ttrain-mlogloss:0.857807\n",
      "[1460]\ttrain-mlogloss:0.856991\n",
      "[1480]\ttrain-mlogloss:0.856231\n",
      "[1500]\ttrain-mlogloss:0.855237\n",
      "[1520]\ttrain-mlogloss:0.854265\n",
      "[1540]\ttrain-mlogloss:0.853366\n",
      "[1560]\ttrain-mlogloss:0.852395\n",
      "[1580]\ttrain-mlogloss:0.851605\n",
      "[1600]\ttrain-mlogloss:0.850778\n",
      "[1620]\ttrain-mlogloss:0.849963\n",
      "[1640]\ttrain-mlogloss:0.848825\n",
      "[1660]\ttrain-mlogloss:0.847947\n",
      "[1680]\ttrain-mlogloss:0.847157\n",
      "[1700]\ttrain-mlogloss:0.846462\n",
      "[1720]\ttrain-mlogloss:0.845729\n",
      "[1740]\ttrain-mlogloss:0.844963\n",
      "[1760]\ttrain-mlogloss:0.844317\n",
      "[1780]\ttrain-mlogloss:0.843597\n",
      "[1800]\ttrain-mlogloss:0.842705\n",
      "[1820]\ttrain-mlogloss:0.841969\n",
      "[1840]\ttrain-mlogloss:0.841094\n",
      "[1860]\ttrain-mlogloss:0.840191\n",
      "[1880]\ttrain-mlogloss:0.839479\n",
      "[1900]\ttrain-mlogloss:0.838709\n",
      "[1920]\ttrain-mlogloss:0.838016\n",
      "[1940]\ttrain-mlogloss:0.837179\n",
      "[1960]\ttrain-mlogloss:0.83654\n",
      "[1980]\ttrain-mlogloss:0.835763\n",
      "[0]\ttrain-mlogloss:1.09476\n",
      "Will train until train-mlogloss hasn't improved in 50 rounds.\n",
      "[20]\ttrain-mlogloss:1.04777\n",
      "[40]\ttrain-mlogloss:1.02679\n",
      "[60]\ttrain-mlogloss:1.011\n",
      "[80]\ttrain-mlogloss:0.998665\n",
      "[100]\ttrain-mlogloss:0.990889\n",
      "[120]\ttrain-mlogloss:0.983713\n",
      "[140]\ttrain-mlogloss:0.978064\n",
      "[160]\ttrain-mlogloss:0.972594\n",
      "[180]\ttrain-mlogloss:0.967805\n",
      "[200]\ttrain-mlogloss:0.963677\n",
      "[220]\ttrain-mlogloss:0.960244\n",
      "[240]\ttrain-mlogloss:0.956982\n",
      "[260]\ttrain-mlogloss:0.953722\n",
      "[280]\ttrain-mlogloss:0.950029\n",
      "[300]\ttrain-mlogloss:0.946908\n",
      "[320]\ttrain-mlogloss:0.943612\n",
      "[340]\ttrain-mlogloss:0.940602\n",
      "[360]\ttrain-mlogloss:0.93806\n",
      "[380]\ttrain-mlogloss:0.935115\n",
      "[400]\ttrain-mlogloss:0.932695\n",
      "[420]\ttrain-mlogloss:0.930118\n",
      "[440]\ttrain-mlogloss:0.92764\n",
      "[460]\ttrain-mlogloss:0.925337\n",
      "[480]\ttrain-mlogloss:0.923385\n",
      "[500]\ttrain-mlogloss:0.921453\n",
      "[520]\ttrain-mlogloss:0.919434\n",
      "[540]\ttrain-mlogloss:0.917586\n",
      "[560]\ttrain-mlogloss:0.915677\n",
      "[580]\ttrain-mlogloss:0.913785\n",
      "[600]\ttrain-mlogloss:0.91185\n",
      "[620]\ttrain-mlogloss:0.909897\n",
      "[640]\ttrain-mlogloss:0.908201\n",
      "[660]\ttrain-mlogloss:0.906473\n",
      "[680]\ttrain-mlogloss:0.904914\n",
      "[700]\ttrain-mlogloss:0.90336\n",
      "[720]\ttrain-mlogloss:0.901766\n",
      "[740]\ttrain-mlogloss:0.900337\n",
      "[760]\ttrain-mlogloss:0.898828\n",
      "[780]\ttrain-mlogloss:0.897526\n",
      "[800]\ttrain-mlogloss:0.89612\n",
      "[820]\ttrain-mlogloss:0.894816\n",
      "[840]\ttrain-mlogloss:0.893423\n",
      "[860]\ttrain-mlogloss:0.891919\n",
      "[880]\ttrain-mlogloss:0.8906\n",
      "[900]\ttrain-mlogloss:0.889224\n",
      "[920]\ttrain-mlogloss:0.887862\n",
      "[940]\ttrain-mlogloss:0.88638\n",
      "[960]\ttrain-mlogloss:0.885186\n",
      "[980]\ttrain-mlogloss:0.883891\n",
      "[1000]\ttrain-mlogloss:0.882628\n",
      "[1020]\ttrain-mlogloss:0.881508\n",
      "[1040]\ttrain-mlogloss:0.880499\n",
      "[1060]\ttrain-mlogloss:0.87927\n",
      "[1080]\ttrain-mlogloss:0.878248\n",
      "[1100]\ttrain-mlogloss:0.876986\n",
      "[1120]\ttrain-mlogloss:0.875804\n",
      "[1140]\ttrain-mlogloss:0.874697\n",
      "[1160]\ttrain-mlogloss:0.873609\n",
      "[1180]\ttrain-mlogloss:0.872433\n",
      "[1200]\ttrain-mlogloss:0.871452\n",
      "[1220]\ttrain-mlogloss:0.870337\n",
      "[1240]\ttrain-mlogloss:0.869335\n",
      "[1260]\ttrain-mlogloss:0.868325\n",
      "[1280]\ttrain-mlogloss:0.867274\n",
      "[1300]\ttrain-mlogloss:0.866189\n",
      "[1320]\ttrain-mlogloss:0.865095\n",
      "[1340]\ttrain-mlogloss:0.86414\n",
      "[1360]\ttrain-mlogloss:0.863259\n",
      "[1380]\ttrain-mlogloss:0.862276\n",
      "[1400]\ttrain-mlogloss:0.861383\n",
      "[1420]\ttrain-mlogloss:0.860415\n",
      "[1440]\ttrain-mlogloss:0.859606\n",
      "[1460]\ttrain-mlogloss:0.858731\n",
      "[1480]\ttrain-mlogloss:0.857795\n",
      "[1500]\ttrain-mlogloss:0.856839\n",
      "[1520]\ttrain-mlogloss:0.855821\n",
      "[1540]\ttrain-mlogloss:0.854833\n",
      "[1560]\ttrain-mlogloss:0.8539\n",
      "[1580]\ttrain-mlogloss:0.85311\n",
      "[1600]\ttrain-mlogloss:0.852276\n",
      "[1620]\ttrain-mlogloss:0.851401\n",
      "[1640]\ttrain-mlogloss:0.850502\n",
      "[1660]\ttrain-mlogloss:0.84963\n",
      "[1680]\ttrain-mlogloss:0.848836\n",
      "[1700]\ttrain-mlogloss:0.848085\n",
      "[1720]\ttrain-mlogloss:0.847286\n",
      "[1740]\ttrain-mlogloss:0.846327\n",
      "[1760]\ttrain-mlogloss:0.845483\n",
      "[1780]\ttrain-mlogloss:0.844584\n",
      "[1800]\ttrain-mlogloss:0.843794\n",
      "[1820]\ttrain-mlogloss:0.843137\n",
      "[1840]\ttrain-mlogloss:0.842291\n",
      "[1860]\ttrain-mlogloss:0.841339\n",
      "[1880]\ttrain-mlogloss:0.840647\n",
      "[1900]\ttrain-mlogloss:0.839884\n",
      "[1920]\ttrain-mlogloss:0.839139\n",
      "[1940]\ttrain-mlogloss:0.838253\n",
      "[1960]\ttrain-mlogloss:0.837508\n",
      "[1980]\ttrain-mlogloss:0.836754\n",
      "[0]\ttrain-mlogloss:1.09477\n",
      "Will train until train-mlogloss hasn't improved in 50 rounds.\n",
      "[20]\ttrain-mlogloss:1.04529\n",
      "[40]\ttrain-mlogloss:1.02391\n",
      "[60]\ttrain-mlogloss:1.00845\n",
      "[80]\ttrain-mlogloss:0.995933\n",
      "[100]\ttrain-mlogloss:0.988101\n",
      "[120]\ttrain-mlogloss:0.980996\n",
      "[140]\ttrain-mlogloss:0.975358\n",
      "[160]\ttrain-mlogloss:0.970017\n",
      "[180]\ttrain-mlogloss:0.965205\n",
      "[200]\ttrain-mlogloss:0.960851\n",
      "[220]\ttrain-mlogloss:0.957106\n",
      "[240]\ttrain-mlogloss:0.953908\n",
      "[260]\ttrain-mlogloss:0.950705\n",
      "[280]\ttrain-mlogloss:0.946932\n",
      "[300]\ttrain-mlogloss:0.943869\n",
      "[320]\ttrain-mlogloss:0.940695\n",
      "[340]\ttrain-mlogloss:0.937605\n",
      "[360]\ttrain-mlogloss:0.935174\n",
      "[380]\ttrain-mlogloss:0.93219\n",
      "[400]\ttrain-mlogloss:0.92986\n",
      "[420]\ttrain-mlogloss:0.927516\n",
      "[440]\ttrain-mlogloss:0.925297\n",
      "[460]\ttrain-mlogloss:0.922698\n",
      "[480]\ttrain-mlogloss:0.920915\n",
      "[500]\ttrain-mlogloss:0.918858\n",
      "[520]\ttrain-mlogloss:0.916966\n",
      "[540]\ttrain-mlogloss:0.914914\n",
      "[560]\ttrain-mlogloss:0.913043\n",
      "[580]\ttrain-mlogloss:0.91135\n",
      "[600]\ttrain-mlogloss:0.909531\n",
      "[620]\ttrain-mlogloss:0.907469\n",
      "[640]\ttrain-mlogloss:0.905838\n",
      "[660]\ttrain-mlogloss:0.904189\n",
      "[680]\ttrain-mlogloss:0.902582\n",
      "[700]\ttrain-mlogloss:0.900948\n",
      "[720]\ttrain-mlogloss:0.899454\n",
      "[740]\ttrain-mlogloss:0.898026\n",
      "[760]\ttrain-mlogloss:0.896409\n",
      "[780]\ttrain-mlogloss:0.895148\n",
      "[800]\ttrain-mlogloss:0.893506\n",
      "[820]\ttrain-mlogloss:0.892177\n",
      "[840]\ttrain-mlogloss:0.890736\n",
      "[860]\ttrain-mlogloss:0.889389\n",
      "[880]\ttrain-mlogloss:0.888024\n",
      "[900]\ttrain-mlogloss:0.886547\n",
      "[920]\ttrain-mlogloss:0.885149\n",
      "[940]\ttrain-mlogloss:0.883685\n",
      "[960]\ttrain-mlogloss:0.882661\n",
      "[980]\ttrain-mlogloss:0.881505\n",
      "[1000]\ttrain-mlogloss:0.880313\n",
      "[1020]\ttrain-mlogloss:0.878968\n",
      "[1040]\ttrain-mlogloss:0.87776\n",
      "[1060]\ttrain-mlogloss:0.87661\n",
      "[1080]\ttrain-mlogloss:0.875441\n",
      "[1100]\ttrain-mlogloss:0.874117\n",
      "[1120]\ttrain-mlogloss:0.872977\n",
      "[1140]\ttrain-mlogloss:0.871937\n",
      "[1160]\ttrain-mlogloss:0.870872\n",
      "[1180]\ttrain-mlogloss:0.869737\n",
      "[1200]\ttrain-mlogloss:0.868737\n",
      "[1220]\ttrain-mlogloss:0.867651\n",
      "[1240]\ttrain-mlogloss:0.86657\n",
      "[1260]\ttrain-mlogloss:0.865536\n",
      "[1280]\ttrain-mlogloss:0.864438\n",
      "[1300]\ttrain-mlogloss:0.863389\n"
     ]
    },
    {
     "name": "stdout",
     "output_type": "stream",
     "text": [
      "[1320]\ttrain-mlogloss:0.862466\n",
      "[1340]\ttrain-mlogloss:0.861358\n",
      "[1360]\ttrain-mlogloss:0.860352\n",
      "[1380]\ttrain-mlogloss:0.859251\n",
      "[1400]\ttrain-mlogloss:0.858224\n",
      "[1420]\ttrain-mlogloss:0.857235\n",
      "[1440]\ttrain-mlogloss:0.85639\n",
      "[1460]\ttrain-mlogloss:0.85546\n",
      "[1480]\ttrain-mlogloss:0.854602\n",
      "[1500]\ttrain-mlogloss:0.853685\n",
      "[1520]\ttrain-mlogloss:0.852807\n",
      "[1540]\ttrain-mlogloss:0.851958\n",
      "[1560]\ttrain-mlogloss:0.85101\n",
      "[1580]\ttrain-mlogloss:0.850135\n",
      "[1600]\ttrain-mlogloss:0.849216\n",
      "[1620]\ttrain-mlogloss:0.84833\n",
      "[1640]\ttrain-mlogloss:0.847314\n",
      "[1660]\ttrain-mlogloss:0.846429\n",
      "[1680]\ttrain-mlogloss:0.845609\n",
      "[1700]\ttrain-mlogloss:0.844859\n",
      "[1720]\ttrain-mlogloss:0.84418\n",
      "[1740]\ttrain-mlogloss:0.843382\n",
      "[1760]\ttrain-mlogloss:0.842633\n",
      "[1780]\ttrain-mlogloss:0.841813\n",
      "[1800]\ttrain-mlogloss:0.841072\n",
      "[1820]\ttrain-mlogloss:0.840253\n",
      "[1840]\ttrain-mlogloss:0.839378\n",
      "[1860]\ttrain-mlogloss:0.838371\n",
      "[1880]\ttrain-mlogloss:0.837602\n",
      "[1900]\ttrain-mlogloss:0.836889\n",
      "[1920]\ttrain-mlogloss:0.836093\n",
      "[1940]\ttrain-mlogloss:0.835346\n",
      "[1960]\ttrain-mlogloss:0.834641\n",
      "[1980]\ttrain-mlogloss:0.833865\n",
      "[0]\ttrain-mlogloss:1.09454\n",
      "Will train until train-mlogloss hasn't improved in 50 rounds.\n",
      "[20]\ttrain-mlogloss:1.04629\n",
      "[40]\ttrain-mlogloss:1.02502\n",
      "[60]\ttrain-mlogloss:1.00974\n",
      "[80]\ttrain-mlogloss:0.997098\n",
      "[100]\ttrain-mlogloss:0.989408\n",
      "[120]\ttrain-mlogloss:0.982454\n",
      "[140]\ttrain-mlogloss:0.97681\n",
      "[160]\ttrain-mlogloss:0.971408\n",
      "[180]\ttrain-mlogloss:0.966588\n",
      "[200]\ttrain-mlogloss:0.962452\n",
      "[220]\ttrain-mlogloss:0.958627\n",
      "[240]\ttrain-mlogloss:0.955343\n",
      "[260]\ttrain-mlogloss:0.952045\n",
      "[280]\ttrain-mlogloss:0.94811\n",
      "[300]\ttrain-mlogloss:0.944846\n",
      "[320]\ttrain-mlogloss:0.941464\n",
      "[340]\ttrain-mlogloss:0.938153\n",
      "[360]\ttrain-mlogloss:0.935781\n",
      "[380]\ttrain-mlogloss:0.932981\n",
      "[400]\ttrain-mlogloss:0.930664\n",
      "[420]\ttrain-mlogloss:0.928133\n",
      "[440]\ttrain-mlogloss:0.925759\n",
      "[460]\ttrain-mlogloss:0.923203\n",
      "[480]\ttrain-mlogloss:0.921277\n",
      "[500]\ttrain-mlogloss:0.919391\n",
      "[520]\ttrain-mlogloss:0.917486\n",
      "[540]\ttrain-mlogloss:0.9154\n",
      "[560]\ttrain-mlogloss:0.913512\n",
      "[580]\ttrain-mlogloss:0.911693\n",
      "[600]\ttrain-mlogloss:0.910005\n",
      "[620]\ttrain-mlogloss:0.908089\n",
      "[640]\ttrain-mlogloss:0.906583\n",
      "[660]\ttrain-mlogloss:0.904906\n",
      "[680]\ttrain-mlogloss:0.903313\n",
      "[700]\ttrain-mlogloss:0.901779\n",
      "[720]\ttrain-mlogloss:0.900247\n",
      "[740]\ttrain-mlogloss:0.898819\n",
      "[760]\ttrain-mlogloss:0.897283\n",
      "[780]\ttrain-mlogloss:0.895864\n",
      "[800]\ttrain-mlogloss:0.894426\n",
      "[820]\ttrain-mlogloss:0.89298\n",
      "[840]\ttrain-mlogloss:0.891685\n",
      "[860]\ttrain-mlogloss:0.890276\n",
      "[880]\ttrain-mlogloss:0.888805\n",
      "[900]\ttrain-mlogloss:0.887556\n",
      "[920]\ttrain-mlogloss:0.886226\n",
      "[940]\ttrain-mlogloss:0.884806\n",
      "[960]\ttrain-mlogloss:0.88371\n",
      "[980]\ttrain-mlogloss:0.882484\n",
      "[1000]\ttrain-mlogloss:0.88113\n",
      "[1020]\ttrain-mlogloss:0.879842\n",
      "[1040]\ttrain-mlogloss:0.878688\n",
      "[1060]\ttrain-mlogloss:0.877636\n",
      "[1080]\ttrain-mlogloss:0.876546\n",
      "[1100]\ttrain-mlogloss:0.875324\n",
      "[1120]\ttrain-mlogloss:0.87408\n",
      "[1140]\ttrain-mlogloss:0.873011\n",
      "[1160]\ttrain-mlogloss:0.871781\n",
      "[1180]\ttrain-mlogloss:0.870672\n",
      "[1200]\ttrain-mlogloss:0.869614\n",
      "[1220]\ttrain-mlogloss:0.868594\n",
      "[1240]\ttrain-mlogloss:0.867521\n",
      "[1260]\ttrain-mlogloss:0.86661\n",
      "[1280]\ttrain-mlogloss:0.865629\n",
      "[1300]\ttrain-mlogloss:0.864535\n",
      "[1320]\ttrain-mlogloss:0.86361\n",
      "[1340]\ttrain-mlogloss:0.86253\n",
      "[1360]\ttrain-mlogloss:0.861427\n",
      "[1380]\ttrain-mlogloss:0.860378\n",
      "[1400]\ttrain-mlogloss:0.859411\n",
      "[1420]\ttrain-mlogloss:0.858412\n",
      "[1440]\ttrain-mlogloss:0.857523\n",
      "[1460]\ttrain-mlogloss:0.856611\n",
      "[1480]\ttrain-mlogloss:0.855837\n",
      "[1500]\ttrain-mlogloss:0.855035\n",
      "[1520]\ttrain-mlogloss:0.854113\n",
      "[1540]\ttrain-mlogloss:0.853148\n",
      "[1560]\ttrain-mlogloss:0.852195\n",
      "[1580]\ttrain-mlogloss:0.851422\n",
      "[1600]\ttrain-mlogloss:0.850591\n",
      "[1620]\ttrain-mlogloss:0.84978\n",
      "[1640]\ttrain-mlogloss:0.848836\n",
      "[1660]\ttrain-mlogloss:0.847998\n",
      "[1680]\ttrain-mlogloss:0.847183\n",
      "[1700]\ttrain-mlogloss:0.846464\n",
      "[1720]\ttrain-mlogloss:0.845692\n",
      "[1740]\ttrain-mlogloss:0.844774\n",
      "[1760]\ttrain-mlogloss:0.843992\n",
      "[1780]\ttrain-mlogloss:0.843156\n",
      "[1800]\ttrain-mlogloss:0.842338\n",
      "[1820]\ttrain-mlogloss:0.841587\n",
      "[1840]\ttrain-mlogloss:0.840737\n",
      "[1860]\ttrain-mlogloss:0.839799\n",
      "[1880]\ttrain-mlogloss:0.838971\n",
      "[1900]\ttrain-mlogloss:0.838153\n",
      "[1920]\ttrain-mlogloss:0.837402\n",
      "[1940]\ttrain-mlogloss:0.836641\n",
      "[1960]\ttrain-mlogloss:0.835879\n",
      "[1980]\ttrain-mlogloss:0.835015\n",
      "[0]\ttrain-mlogloss:1.0913\n",
      "Will train until train-mlogloss hasn't improved in 50 rounds.\n",
      "[20]\ttrain-mlogloss:1.04506\n",
      "[40]\ttrain-mlogloss:1.02537\n",
      "[60]\ttrain-mlogloss:1.01167\n",
      "[80]\ttrain-mlogloss:0.999934\n",
      "[100]\ttrain-mlogloss:0.992206\n",
      "[120]\ttrain-mlogloss:0.983628\n",
      "[140]\ttrain-mlogloss:0.979075\n",
      "[160]\ttrain-mlogloss:0.973637\n",
      "[180]\ttrain-mlogloss:0.969266\n",
      "[200]\ttrain-mlogloss:0.964824\n",
      "[220]\ttrain-mlogloss:0.960272\n",
      "[240]\ttrain-mlogloss:0.956386\n",
      "[260]\ttrain-mlogloss:0.953184\n",
      "[280]\ttrain-mlogloss:0.949714\n",
      "[300]\ttrain-mlogloss:0.946325\n",
      "[320]\ttrain-mlogloss:0.943753\n",
      "[340]\ttrain-mlogloss:0.941046\n",
      "[360]\ttrain-mlogloss:0.938115\n",
      "[380]\ttrain-mlogloss:0.935363\n",
      "[400]\ttrain-mlogloss:0.932606\n",
      "[420]\ttrain-mlogloss:0.930232\n",
      "[440]\ttrain-mlogloss:0.927893\n",
      "[460]\ttrain-mlogloss:0.925889\n",
      "[480]\ttrain-mlogloss:0.923549\n",
      "[500]\ttrain-mlogloss:0.921499\n",
      "[520]\ttrain-mlogloss:0.919461\n",
      "[540]\ttrain-mlogloss:0.917376\n",
      "[560]\ttrain-mlogloss:0.915606\n",
      "[580]\ttrain-mlogloss:0.913461\n",
      "[600]\ttrain-mlogloss:0.911448\n",
      "[620]\ttrain-mlogloss:0.909826\n",
      "[640]\ttrain-mlogloss:0.90816\n",
      "[660]\ttrain-mlogloss:0.906585\n",
      "[680]\ttrain-mlogloss:0.904923\n",
      "[700]\ttrain-mlogloss:0.903349\n",
      "[720]\ttrain-mlogloss:0.901539\n",
      "[740]\ttrain-mlogloss:0.900009\n",
      "[760]\ttrain-mlogloss:0.898541\n",
      "[780]\ttrain-mlogloss:0.897021\n",
      "[800]\ttrain-mlogloss:0.895584\n",
      "[820]\ttrain-mlogloss:0.894168\n",
      "[840]\ttrain-mlogloss:0.893005\n",
      "[860]\ttrain-mlogloss:0.891609\n",
      "[880]\ttrain-mlogloss:0.890219\n",
      "[900]\ttrain-mlogloss:0.888977\n",
      "[920]\ttrain-mlogloss:0.88773\n",
      "[940]\ttrain-mlogloss:0.886499\n",
      "[960]\ttrain-mlogloss:0.885274\n",
      "[980]\ttrain-mlogloss:0.88416\n",
      "[1000]\ttrain-mlogloss:0.883053\n",
      "[1020]\ttrain-mlogloss:0.881711\n",
      "[1040]\ttrain-mlogloss:0.880538\n",
      "[1060]\ttrain-mlogloss:0.879514\n",
      "[1080]\ttrain-mlogloss:0.87863\n",
      "[1100]\ttrain-mlogloss:0.877456\n",
      "[1120]\ttrain-mlogloss:0.876266\n",
      "[1140]\ttrain-mlogloss:0.875164\n",
      "[1160]\ttrain-mlogloss:0.873966\n",
      "[1180]\ttrain-mlogloss:0.872897\n",
      "[1200]\ttrain-mlogloss:0.871834\n",
      "[1220]\ttrain-mlogloss:0.870962\n",
      "[1240]\ttrain-mlogloss:0.869861\n",
      "[1260]\ttrain-mlogloss:0.868965\n",
      "[1280]\ttrain-mlogloss:0.867987\n",
      "[1300]\ttrain-mlogloss:0.866944\n",
      "[1320]\ttrain-mlogloss:0.865973\n",
      "[1340]\ttrain-mlogloss:0.86483\n",
      "[1360]\ttrain-mlogloss:0.863876\n",
      "[1380]\ttrain-mlogloss:0.862977\n",
      "[1400]\ttrain-mlogloss:0.862169\n",
      "[1420]\ttrain-mlogloss:0.86127\n",
      "[1440]\ttrain-mlogloss:0.860368\n",
      "[1460]\ttrain-mlogloss:0.859602\n",
      "[1480]\ttrain-mlogloss:0.858682\n",
      "[1500]\ttrain-mlogloss:0.857761\n",
      "[1520]\ttrain-mlogloss:0.856871\n",
      "[1540]\ttrain-mlogloss:0.855972\n",
      "[1560]\ttrain-mlogloss:0.855168\n",
      "[1580]\ttrain-mlogloss:0.854327\n",
      "[1600]\ttrain-mlogloss:0.853438\n",
      "[1620]\ttrain-mlogloss:0.852628\n",
      "[1640]\ttrain-mlogloss:0.851904\n",
      "[1660]\ttrain-mlogloss:0.851024\n",
      "[1680]\ttrain-mlogloss:0.8502\n",
      "[1700]\ttrain-mlogloss:0.849318\n",
      "[1720]\ttrain-mlogloss:0.848523\n",
      "[1740]\ttrain-mlogloss:0.847721\n",
      "[1760]\ttrain-mlogloss:0.846854\n",
      "[1780]\ttrain-mlogloss:0.846007\n",
      "[1800]\ttrain-mlogloss:0.845129\n",
      "[1820]\ttrain-mlogloss:0.844304\n",
      "[1840]\ttrain-mlogloss:0.84347\n",
      "[1860]\ttrain-mlogloss:0.842681\n",
      "[1880]\ttrain-mlogloss:0.841873\n",
      "[1900]\ttrain-mlogloss:0.841083\n",
      "[1920]\ttrain-mlogloss:0.840349\n",
      "[1940]\ttrain-mlogloss:0.839621\n",
      "[1960]\ttrain-mlogloss:0.838766\n",
      "[1980]\ttrain-mlogloss:0.838017\n",
      "cv scores: [1.0043328703585412, 0.99214529357624881, 1.0028406305878235, 1.0000912365913857, 0.99132357580548014]\n"
     ]
    }
   ],
   "source": [
    "kf = KFold(n_splits=5, shuffle=True, random_state=2017)\n",
    "cv_scores=[]\n",
    "pred_full_test=0\n",
    "pred_train= np.zeros([df.shape[0], 3])\n",
    "for dev_index, val_index in kf.split(X):\n",
    "    dev_X, val_X =X.loc[dev_index], X.loc[val_index]\n",
    "    dev_y, val_y = y[dev_index], y[val_index]\n",
    "    pred_val_y, pred_test_y, model = RunXGB(dev_X, dev_y, val_X, val_y, test_X, seed_val=0)\n",
    "    pred_full_test = pred_full_test + pred_test_y\n",
    "    pred_train[val_index,:] = pred_val_y\n",
    "    cv_scores.append(metrics.log_loss(val_y, pred_val_y))\n",
    "print('cv scores:', cv_scores)"
   ]
  },
  {
   "cell_type": "code",
   "execution_count": 169,
   "metadata": {},
   "outputs": [
    {
     "data": {
      "text/plain": [
       "<matplotlib.axes._subplots.AxesSubplot at 0x23685d9e518>"
      ]
     },
     "execution_count": 169,
     "metadata": {},
     "output_type": "execute_result"
    },
    {
     "data": {
      "image/png": "[encoded data removed]",
      "text/plain": [
       "<matplotlib.figure.Figure at 0x23685f18828>"
      ]
     },
     "metadata": {},
     "output_type": "display_data"
    }
   ],
   "source": [
    "# plot the imporant variables\n",
    "fig, ax =plt.subplots(figsize=(12,12))\n",
    "xgb.plot_importance(model, height=.8, ax=ax)"
   ]
  },
  {
   "cell_type": "code",
   "execution_count": 302,
   "metadata": {},
   "outputs": [],
   "source": [
    "# Tfidf\n",
    "tfidf = TfidfVectorizer(stop_words='english', ngram_range=(1,3))\n",
    "complete_tfidf= tfidf.fit_transform(df['text'].values.tolist() + test['text'].values.tolist())\n",
    "train_tfidf = tfidf.transform(df['text'].values.tolist())\n",
    "test_tfidf = tfidf.transform(test['text'].values.tolist())\n"
   ]
  },
  {
   "cell_type": "code",
   "execution_count": 191,
   "metadata": {
    "collapsed": true
   },
   "outputs": [],
   "source": [
    "# Multinomial naive Bayes model\n",
    "def runMNB (train_X, train_y, test_X, test_y, test_X2):\n",
    "    model = naive_bayes.MultinomialNB()\n",
    "    model.fit(train_X, train_y)\n",
    "    pred_test_y = model.predict_proba(test_X)\n",
    "    pred_test_y2 = model.predict_proba(test_X2)\n",
    "    return pred_test_y, pred_test_y2, model\n"
   ]
  },
  {
   "cell_type": "code",
   "execution_count": 193,
   "metadata": {},
   "outputs": [
    {
     "name": "stdout",
     "output_type": "stream",
     "text": [
      "Mean cv score: 0.842216198361\n"
     ]
    }
   ],
   "source": [
    "kf = KFold(n_splits=5, shuffle=True, random_state=2017) # Instantiate kfold split\n",
    "cv_scores=[] # Empty list to hold cross validation scores\n",
    "pred_full_test=0  # Intialize the value of the predictionof the entire dataframe\n",
    "pred_train= np.zeros([df.shape[0], 3])  #Define a numpy array of zeros \n",
    "for dev_index, val_index in kf.split(X):  # Define value of train and test indices\n",
    "    dev_X, val_X =train_tfidf[dev_index], train_tfidf[val_index]  # Define train and test rows for features\n",
    "    dev_y, val_y = y[dev_index], y[val_index]  # Define train and test rows for target \n",
    "    pred_val_y, pred_test_y, model = runMNB(dev_X, dev_y, val_X, val_y, test_tfidf) # Instantiate function model run attaining predict proba values for target variables for train and test\n",
    "    pred_full_test = pred_full_test + pred_test_y # sum values of individual predict probas for full dataset predict proba value\n",
    "    pred_train[val_index,:] = pred_val_y  # Insert predict values into prediciton dataframe\n",
    "    cv_scores.append(metrics.log_loss(val_y, pred_val_y))  # Calculate log loss of model \n",
    "print('Mean cv score:' , np.mean(cv_scores))\n",
    "pred_full_test = pred_full_test/5."
   ]
  },
  {
   "cell_type": "code",
   "execution_count": 304,
   "metadata": {},
   "outputs": [],
   "source": [
    "n_comp = 20\n",
    "svd = TruncatedSVD(n_components=n_comp, algorithm='arpack')\n",
    "svd.fit(complete_tfidf)\n",
    "train_svd = pd.DataFrame(svd.transform(train_tfidf))\n",
    "test_svd = pd.DataFrame(svd.transform(test_tfidf))\n",
    "    \n",
    "train_svd.columns = ['svd_word_'+str(i) for i in range(n_comp)]\n",
    "test_svd.columns = ['svd_word_'+str(i) for i in range(n_comp)]\n",
    "train_df = pd.concat([df, train_svd], axis=1)\n",
    "test_df = pd.concat([test, test_svd], axis=1)\n",
    "del complete_tfidf, train_tfidf, test_tfidf, train_svd, test_svd"
   ]
  },
  {
   "cell_type": "code",
   "execution_count": 305,
   "metadata": {
    "collapsed": true
   },
   "outputs": [],
   "source": [
    "tfidf_vec = CountVectorizer(stop_words='english', ngram_range=(1,3))\n",
    "tfidf_vec.fit(df['text'].values.tolist() + test['text'].values.tolist())\n",
    "train_tfidf = tfidf_vec.transform(df['text'].values.tolist())\n",
    "test_tfidf = tfidf_vec.transform(test['text'].values.tolist())"
   ]
  },
  {
   "cell_type": "code",
   "execution_count": 329,
   "metadata": {},
   "outputs": [
    {
     "name": "stdout",
     "output_type": "stream",
     "text": [
      "Mean cv score :  0.450918416166\n"
     ]
    }
   ],
   "source": [
    "cv_scores = []\n",
    "pred_full_test = 0\n",
    "pred_train = np.zeros([df.shape[0], 3])\n",
    "kf =KFold(n_splits=5, shuffle=True, random_state=2017)\n",
    "for dev_index, val_index in kf.split(X):\n",
    "    dev_X, val_X = train_tfidf[dev_index], train_tfidf[val_index]\n",
    "    dev_y, val_y = y[dev_index], y[val_index]\n",
    "    pred_val_y, pred_test_y, model = runMNB(dev_X, dev_y, val_X, val_y, test_tfidf)\n",
    "    pred_full_test = pred_full_test + pred_test_y\n",
    "    pred_train[val_index,:] = pred_val_y\n",
    "    cv_scores.append(metrics.log_loss(val_y, pred_val_y))\n",
    "print(\"Mean cv score : \", np.mean(cv_scores))\n",
    "pred_full_test = pred_full_test / 5."
   ]
  },
  {
   "cell_type": "code",
   "execution_count": 330,
   "metadata": {
    "collapsed": true
   },
   "outputs": [],
   "source": [
    "df['nb_cvec_eap'] = pred_train[:,0]\n",
    "df['nb_cvec_hpl'] = pred_train[:,1]\n",
    "df['nb_cvec_mws'] = pred_train[:,2]\n",
    "test['nb_cvec_eap'] = pred_full_test[:,0]\n",
    "test['nb_cvec_hpl'] = pred_full_test[:,1]\n",
    "test['nb_cvec_mws'] = pred_full_test[:,2]\n"
   ]
  },
  {
   "cell_type": "code",
   "execution_count": 340,
   "metadata": {},
   "outputs": [
    {
     "name": "stdout",
     "output_type": "stream",
     "text": [
      "Mean cv scores: 3.75076392268\n"
     ]
    }
   ],
   "source": [
    "# Naive Bayes character countvectorizer\n",
    "tfidf_vec = CountVectorizer(ngram_range=(1,7), analyzer='char')\n",
    "full_tfidf = tfidf_vec.fit_transform(df['text'].values.tolist() + test['text'].values.tolist())\n",
    "train_tfidf = tfidf_vec.transform(df['text'].values.tolist())\n",
    "test_tfidf = tfidf_vec.transform(test['text'].values.tolist())\n",
    "\n",
    "cv_scores = [] \n",
    "pred_full_test = 0\n",
    "for dev_index, val_index in kf.split(X):\n",
    "    dev_X,val_X= train_tfidf[dev_index], train_tfidf[val_index]\n",
    "    dev_y, val_y = y[dev_index], y[val_index]\n",
    "    pred_val_y, pred_test_y, model = runMNB(dev_X, dev_y, val_X, val_y, test_tfidf)\n",
    "    pred_full_test = pred_full_test + pred_test_y\n",
    "    pred_train[val_index,:] = pred_val_y\n",
    "    cv_scores.append(metrics.log_loss(val_y, pred_val_y))\n",
    "print('Mean cv scores:', np.mean(cv_scores))\n",
    "pred_full_test = pred_full_test/5"
   ]
  },
  {
   "cell_type": "code",
   "execution_count": 349,
   "metadata": {},
   "outputs": [],
   "source": [
    "full_tfidf = tfidf_vec.fit_transform(df['text'].values.tolist() + test['text'].values.tolist())"
   ]
  },
  {
   "cell_type": "code",
   "execution_count": 341,
   "metadata": {
    "collapsed": true
   },
   "outputs": [],
   "source": [
    "df['nb_char_cvec_eap'] = pred_train[:,0]\n",
    "df['nb_char_cvec_hpl'] = pred_train[:,1]\n",
    "df['nb_char_cvec_mws'] = pred_train[:,2]\n",
    "test['nb_char_cvec_eap'] = pred_full_test[:,0]\n",
    "test['nb_char_cvec_hpl'] = pred_full_test[:,1]\n",
    "test['nb{char_cvec_mws'] = pred_full_test[:,2]"
   ]
  },
  {
   "cell_type": "code",
   "execution_count": 368,
   "metadata": {
    "collapsed": true
   },
   "outputs": [],
   "source": [
    "test['nb{char_cvec_mws']  = test['nb{char_cvec_mws'].rename('nb_char_cvec_mws')"
   ]
  },
  {
   "cell_type": "code",
   "execution_count": 371,
   "metadata": {},
   "outputs": [
    {
     "data": {
      "text/plain": [
       "(8392, 56)"
      ]
     },
     "execution_count": 371,
     "metadata": {},
     "output_type": "execute_result"
    }
   ],
   "source": [
    "test.shape"
   ]
  },
  {
   "cell_type": "code",
   "execution_count": 343,
   "metadata": {},
   "outputs": [
    {
     "data": {
      "text/plain": [
       "(19579, 9)"
      ]
     },
     "execution_count": 343,
     "metadata": {},
     "output_type": "execute_result"
    }
   ],
   "source": [
    "df.shape"
   ]
  },
  {
   "cell_type": "code",
   "execution_count": 352,
   "metadata": {},
   "outputs": [
    {
     "name": "stdout",
     "output_type": "stream",
     "text": [
      "Mean cv scores: 0.790415258947\n"
     ]
    }
   ],
   "source": [
    "#Naive Bayes on character TFIDF\n",
    "tfidf_vec = TfidfVectorizer(stop_words='english', ngram_range=(1,5), analyzer='char')\n",
    "full_tfidf = tfidf_vec.fit_transform(df['text'].values.tolist() + test['text'].values.tolist())\n",
    "train_tfidf = tfidf_vec.transform(df['text'].values.tolist())\n",
    "test_tfidf =tfidf_vec.transform(test['text'].values.tolist())\n",
    "\n",
    "cv_scores = []\n",
    "pred_full_test =0\n",
    "for dev_index, val_index in kf.split(X):\n",
    "    dev_X, val_X = train_tfidf[dev_index],train_tfidf[val_index]\n",
    "    dev_y, val_y = y[dev_index], y[val_index]\n",
    "    pred_val_y, pred_test_y, model = runMNB(dev_X, dev_y, val_X, val_y, test_tfidf)\n",
    "    pred_full_test= pred_full_test + pred_test_y\n",
    "    pred_train[val_index,:] = pred_val_y\n",
    "    cv_scores.append(metrics.log_loss(val_y, pred_val_y))\n",
    "print('Mean cv scores:', np.mean(cv_scores))\n",
    "pred_full_test = pred_full_test/5"
   ]
  },
  {
   "cell_type": "code",
   "execution_count": 353,
   "metadata": {
    "collapsed": true
   },
   "outputs": [],
   "source": [
    "df['nb_char_tfidf_eap'] = pred_train[:,0]\n",
    "df['nb_char_tfidf_hpl']= pred_train[:,1]\n",
    "df['nb_char_tfidf_mws'] =pred_train[:,2]\n",
    "test['nb_char_tfidf_eap'] = pred_full_test[:,0]\n",
    "test['nb_char_tfidf_hpl']= pred_full_test[:,1]\n",
    "test['nb_char_tfidf_mws'] =pred_full_test[:,2]\n"
   ]
  },
  {
   "cell_type": "code",
   "execution_count": 357,
   "metadata": {},
   "outputs": [],
   "source": [
    "# SVD on charcter TFIDF\n",
    "n_comps=20\n",
    "svd = TruncatedSVD(n_components=n_comps, algorithm='arpack')\n",
    "svd.fit(full_tfidf)\n",
    "train_svd = pd.DataFrame(svd.transform(train_tfidf))\n",
    "test_svd = pd.DataFrame(svd.transform(test_tfidf))\n",
    "\n",
    "train_svd.columns = ['svd_char_' +str(i) for i in range(n_comp)]\n",
    "test_svd.columns = ['svd_char' +str(i) for i in range(n_comp)]\n",
    "df = pd.concat([df, train_svd], axis=1)\n",
    "test = pd.concat([test, test_svd], axis =1)\n",
    "del full_tfidf, train_tfidf, test_tfidf, train_svd, test_svd"
   ]
  },
  {
   "cell_type": "code",
   "execution_count": 358,
   "metadata": {},
   "outputs": [
    {
     "data": {
      "text/plain": [
       "(19579, 52)"
      ]
     },
     "execution_count": 358,
     "metadata": {},
     "output_type": "execute_result"
    }
   ],
   "source": [
    "df.shape"
   ]
  },
  {
   "cell_type": "code",
   "execution_count": 372,
   "metadata": {},
   "outputs": [
    {
     "ename": "ValueError",
     "evalue": "feature_names must be unique",
     "output_type": "error",
     "traceback": [
      "\u001b[1;31m---------------------------------------------------------------------------\u001b[0m",
      "\u001b[1;31mValueError\u001b[0m                                Traceback (most recent call last)",
      "\u001b[1;32m<ipython-input-372-55b0bf2a9bc7>\u001b[0m in \u001b[0;36m<module>\u001b[1;34m()\u001b[0m\n\u001b[0;32m     10\u001b[0m     \u001b[0mdev_X\u001b[0m\u001b[1;33m,\u001b[0m \u001b[0mval_X\u001b[0m \u001b[1;33m=\u001b[0m \u001b[0mX\u001b[0m\u001b[1;33m.\u001b[0m\u001b[0mloc\u001b[0m\u001b[1;33m[\u001b[0m\u001b[0mdev_index\u001b[0m\u001b[1;33m]\u001b[0m\u001b[1;33m,\u001b[0m\u001b[0mX\u001b[0m\u001b[1;33m.\u001b[0m\u001b[0mloc\u001b[0m\u001b[1;33m[\u001b[0m\u001b[0mval_index\u001b[0m\u001b[1;33m]\u001b[0m\u001b[1;33m\u001b[0m\u001b[0m\n\u001b[0;32m     11\u001b[0m     \u001b[0mdev_y\u001b[0m\u001b[1;33m,\u001b[0m \u001b[0mval_y\u001b[0m \u001b[1;33m=\u001b[0m \u001b[0my\u001b[0m\u001b[1;33m[\u001b[0m\u001b[0mdev_index\u001b[0m\u001b[1;33m]\u001b[0m\u001b[1;33m,\u001b[0m \u001b[0my\u001b[0m\u001b[1;33m[\u001b[0m\u001b[0mval_index\u001b[0m\u001b[1;33m]\u001b[0m\u001b[1;33m\u001b[0m\u001b[0m\n\u001b[1;32m---> 12\u001b[1;33m     \u001b[0mpred_val_y\u001b[0m\u001b[1;33m,\u001b[0m \u001b[0mpred_test_y\u001b[0m\u001b[1;33m,\u001b[0m \u001b[0mmodel\u001b[0m \u001b[1;33m=\u001b[0m \u001b[0mRunXGB\u001b[0m\u001b[1;33m(\u001b[0m\u001b[0mdev_X\u001b[0m\u001b[1;33m,\u001b[0m \u001b[0mdev_y\u001b[0m\u001b[1;33m,\u001b[0m \u001b[0mval_X\u001b[0m\u001b[1;33m,\u001b[0m \u001b[0mval_y\u001b[0m\u001b[1;33m,\u001b[0m\u001b[0mtest_X\u001b[0m\u001b[1;33m,\u001b[0m\u001b[0mseed_val\u001b[0m\u001b[1;33m=\u001b[0m\u001b[1;36m0\u001b[0m\u001b[1;33m,\u001b[0m \u001b[0mcolsample\u001b[0m\u001b[1;33m=\u001b[0m\u001b[1;36m0.7\u001b[0m\u001b[1;33m)\u001b[0m\u001b[1;33m\u001b[0m\u001b[0m\n\u001b[0m\u001b[0;32m     13\u001b[0m     \u001b[0mpred_full_test\u001b[0m\u001b[1;33m=\u001b[0m \u001b[0mpred_full_test\u001b[0m \u001b[1;33m+\u001b[0m \u001b[0mpred_test_y\u001b[0m\u001b[1;33m\u001b[0m\u001b[0m\n\u001b[0;32m     14\u001b[0m     \u001b[0mpred_train\u001b[0m\u001b[1;33m[\u001b[0m\u001b[0mval_index\u001b[0m\u001b[1;33m,\u001b[0m\u001b[1;33m:\u001b[0m\u001b[1;33m]\u001b[0m \u001b[1;33m=\u001b[0m \u001b[0mpred_val_y\u001b[0m\u001b[1;33m\u001b[0m\u001b[0m\n",
      "\u001b[1;32m<ipython-input-162-0f0d3e41bf0e>\u001b[0m in \u001b[0;36mRunXGB\u001b[1;34m(train_X, train_y, test_X, test_y, test_X2, seed_val, child, colsample)\u001b[0m\n\u001b[0;32m     14\u001b[0m \u001b[1;33m\u001b[0m\u001b[0m\n\u001b[0;32m     15\u001b[0m     \u001b[0mplist\u001b[0m \u001b[1;33m=\u001b[0m\u001b[0mlist\u001b[0m\u001b[1;33m(\u001b[0m\u001b[0mparam\u001b[0m\u001b[1;33m.\u001b[0m\u001b[0mitems\u001b[0m\u001b[1;33m(\u001b[0m\u001b[1;33m)\u001b[0m\u001b[1;33m)\u001b[0m\u001b[1;33m\u001b[0m\u001b[0m\n\u001b[1;32m---> 16\u001b[1;33m     \u001b[0mxgtrain\u001b[0m \u001b[1;33m=\u001b[0m \u001b[0mxgb\u001b[0m\u001b[1;33m.\u001b[0m\u001b[0mDMatrix\u001b[0m\u001b[1;33m(\u001b[0m\u001b[0mtrain_X\u001b[0m\u001b[1;33m,\u001b[0m \u001b[0mlabel\u001b[0m\u001b[1;33m=\u001b[0m\u001b[0mtrain_y\u001b[0m\u001b[1;33m)\u001b[0m\u001b[1;33m\u001b[0m\u001b[0m\n\u001b[0m\u001b[0;32m     17\u001b[0m \u001b[1;33m\u001b[0m\u001b[0m\n\u001b[0;32m     18\u001b[0m     \u001b[1;32mif\u001b[0m \u001b[0mtest_y\u001b[0m \u001b[1;32mis\u001b[0m \u001b[1;32mnot\u001b[0m \u001b[1;32mNone\u001b[0m\u001b[1;33m:\u001b[0m\u001b[1;33m\u001b[0m\u001b[0m\n",
      "\u001b[1;32mC:\\Users\\bobbyd\\Anaconda2\\envs\\scrappy\\lib\\site-packages\\xgboost\\core.py\u001b[0m in \u001b[0;36m__init__\u001b[1;34m(self, data, label, missing, weight, silent, feature_names, feature_types)\u001b[0m\n\u001b[0;32m    278\u001b[0m             \u001b[0mself\u001b[0m\u001b[1;33m.\u001b[0m\u001b[0mset_weight\u001b[0m\u001b[1;33m(\u001b[0m\u001b[0mweight\u001b[0m\u001b[1;33m)\u001b[0m\u001b[1;33m\u001b[0m\u001b[0m\n\u001b[0;32m    279\u001b[0m \u001b[1;33m\u001b[0m\u001b[0m\n\u001b[1;32m--> 280\u001b[1;33m         \u001b[0mself\u001b[0m\u001b[1;33m.\u001b[0m\u001b[0mfeature_names\u001b[0m \u001b[1;33m=\u001b[0m \u001b[0mfeature_names\u001b[0m\u001b[1;33m\u001b[0m\u001b[0m\n\u001b[0m\u001b[0;32m    281\u001b[0m         \u001b[0mself\u001b[0m\u001b[1;33m.\u001b[0m\u001b[0mfeature_types\u001b[0m \u001b[1;33m=\u001b[0m \u001b[0mfeature_types\u001b[0m\u001b[1;33m\u001b[0m\u001b[0m\n\u001b[0;32m    282\u001b[0m \u001b[1;33m\u001b[0m\u001b[0m\n",
      "\u001b[1;32mC:\\Users\\bobbyd\\Anaconda2\\envs\\scrappy\\lib\\site-packages\\xgboost\\core.py\u001b[0m in \u001b[0;36mfeature_names\u001b[1;34m(self, feature_names)\u001b[0m\n\u001b[0;32m    569\u001b[0m                 \u001b[0mfeature_names\u001b[0m \u001b[1;33m=\u001b[0m \u001b[0mlist\u001b[0m\u001b[1;33m(\u001b[0m\u001b[0mfeature_names\u001b[0m\u001b[1;33m)\u001b[0m\u001b[1;33m\u001b[0m\u001b[0m\n\u001b[0;32m    570\u001b[0m             \u001b[1;32mif\u001b[0m \u001b[0mlen\u001b[0m\u001b[1;33m(\u001b[0m\u001b[0mfeature_names\u001b[0m\u001b[1;33m)\u001b[0m \u001b[1;33m!=\u001b[0m \u001b[0mlen\u001b[0m\u001b[1;33m(\u001b[0m\u001b[0mset\u001b[0m\u001b[1;33m(\u001b[0m\u001b[0mfeature_names\u001b[0m\u001b[1;33m)\u001b[0m\u001b[1;33m)\u001b[0m\u001b[1;33m:\u001b[0m\u001b[1;33m\u001b[0m\u001b[0m\n\u001b[1;32m--> 571\u001b[1;33m                 \u001b[1;32mraise\u001b[0m \u001b[0mValueError\u001b[0m\u001b[1;33m(\u001b[0m\u001b[1;34m'feature_names must be unique'\u001b[0m\u001b[1;33m)\u001b[0m\u001b[1;33m\u001b[0m\u001b[0m\n\u001b[0m\u001b[0;32m    572\u001b[0m             \u001b[1;32mif\u001b[0m \u001b[0mlen\u001b[0m\u001b[1;33m(\u001b[0m\u001b[0mfeature_names\u001b[0m\u001b[1;33m)\u001b[0m \u001b[1;33m!=\u001b[0m \u001b[0mself\u001b[0m\u001b[1;33m.\u001b[0m\u001b[0mnum_col\u001b[0m\u001b[1;33m(\u001b[0m\u001b[1;33m)\u001b[0m\u001b[1;33m:\u001b[0m\u001b[1;33m\u001b[0m\u001b[0m\n\u001b[0;32m    573\u001b[0m                 \u001b[0mmsg\u001b[0m \u001b[1;33m=\u001b[0m \u001b[1;34m'feature_names must have the same length as data'\u001b[0m\u001b[1;33m\u001b[0m\u001b[0m\n",
      "\u001b[1;31mValueError\u001b[0m: feature_names must be unique"
     ]
    }
   ],
   "source": [
    "# Xgboost model\n",
    "cols= ['id', 'text']\n",
    "X = df.drop(cols + ['author'], axis =1)\n",
    "test_X = test.drop(cols, axis=1)\n",
    "\n",
    "cv_scores=[]\n",
    "pred_full_test =0\n",
    "pred_train = np.zeros([df.shape[0],3])\n",
    "for dev_index, val_index in kf.split(X):\n",
    "    dev_X, val_X = X.loc[dev_index],X.loc[val_index]\n",
    "    dev_y, val_y = y[dev_index], y[val_index]\n",
    "    pred_val_y, pred_test_y, model = RunXGB(dev_X, dev_y, val_X, val_y,test_X,seed_val=0, colsample=0.7)\n",
    "    pred_full_test= pred_full_test + pred_test_y\n",
    "    pred_train[val_index,:] = pred_val_y\n",
    "    cv_scores.append(metrics.log_loss(val_y, pred_val_y))\n",
    "print('Mean cv scores:', np.mean(cv_scores))\n",
    "pred_full_test = pred_full_test/5"
   ]
  },
  {
   "cell_type": "code",
   "execution_count": 373,
   "metadata": {},
   "outputs": [
    {
     "name": "stdout",
     "output_type": "stream",
     "text": [
      "nb_cvec_eap\n",
      "nb_cvec_hpl\n",
      "nb_cvec_mws\n",
      "nb_char_cvec_eap\n",
      "nb_char_cvec_hpl\n",
      "nb{char_cvec_mws\n",
      "nb_char_tfidf_eap\n",
      "nb_char_tfidf_hpl\n",
      "nb_char_tfidf_mws\n",
      "svd_char_0\n",
      "svd_char_1\n",
      "svd_char_2\n",
      "svd_char_3\n",
      "svd_char_4\n",
      "svd_char_5\n",
      "svd_char_6\n",
      "svd_char_7\n",
      "svd_char_8\n",
      "svd_char_9\n",
      "svd_char_10\n",
      "svd_char_11\n",
      "svd_char_12\n",
      "svd_char_13\n",
      "svd_char_14\n",
      "svd_char_15\n",
      "svd_char_16\n",
      "svd_char_17\n",
      "svd_char_18\n",
      "svd_char_19\n",
      "svd_char_0\n",
      "svd_char_1\n",
      "svd_char_2\n",
      "svd_char_3\n",
      "svd_char_4\n",
      "svd_char_5\n",
      "svd_char_6\n",
      "svd_char_7\n",
      "svd_char_8\n",
      "svd_char_9\n",
      "svd_char_10\n",
      "svd_char_11\n",
      "svd_char_12\n",
      "svd_char_13\n",
      "svd_char_14\n",
      "svd_char_15\n",
      "svd_char_16\n",
      "svd_char_17\n",
      "svd_char_18\n",
      "svd_char_19\n"
     ]
    }
   ],
   "source": [
    "for col in X.columns:\n",
    "    print(col)"
   ]
  },
  {
   "cell_type": "code",
   "execution_count": 366,
   "metadata": {},
   "outputs": [],
   "source": [
    "X.drop('nb{char_cvec_mws', axis=1, inplace =True)"
   ]
  },
  {
   "cell_type": "code",
   "execution_count": 328,
   "metadata": {},
   "outputs": [
    {
     "data": {
      "text/plain": [
       "array([[  1.34173008e-02,   3.04175039e-04,   9.86278524e-01],\n",
       "       [  9.99993116e-01,   4.13025385e-06,   2.75334513e-06],\n",
       "       [  1.86976760e-01,   8.12950429e-01,   7.28115927e-05],\n",
       "       ..., \n",
       "       [  9.99999990e-01,   2.39606690e-09,   7.77945800e-09],\n",
       "       [  2.87410711e-04,   1.78779466e-06,   9.99710801e-01],\n",
       "       [  8.13587955e-03,   9.91862475e-01,   1.64544230e-06]])"
      ]
     },
     "execution_count": 328,
     "metadata": {},
     "output_type": "execute_result"
    }
   ],
   "source": [
    "mnb= naive_bayes.MultinomialNB()\n",
    "mnb.fit(train_tfidf, y)\n",
    "mnb.predict_proba(test_tfidf)"
   ]
  },
  {
   "cell_type": "code",
   "execution_count": 320,
   "metadata": {},
   "outputs": [],
   "source": [
    "eap=[]\n",
    "hpl=[]\n",
    "mws=[]\n",
    "for row in mnb.predict_proba(test_tfidf):\n",
    "    eap.append(row[0])\n",
    "    hpl.append(row[1])\n",
    "    mws.append(row[2])\n",
    "\n",
    "test['EAP']=eap\n",
    "test['HPL'] = hpl\n",
    "test['MWS']=mws"
   ]
  },
  {
   "cell_type": "code",
   "execution_count": 323,
   "metadata": {},
   "outputs": [],
   "source": [
    "submission = test[['id', 'EAP', 'HPL', 'MWS']]\n",
    "submission.to_csv('spooky_authors3.csv', index=False)"
   ]
  }
 ],
 "metadata": {
  "kernelspec": {
   "display_name": "Python 3",
   "language": "python",
   "name": "python3"
  },
  "language_info": {
   "codemirror_mode": {
    "name": "ipython",
    "version": 3
   },
   "file_extension": ".py",
   "mimetype": "text/x-python",
   "name": "python",
   "nbconvert_exporter": "python",
   "pygments_lexer": "ipython3",
   "version": "3.6.1"
  }
 },
 "nbformat": 4,
 "nbformat_minor": 2
}
